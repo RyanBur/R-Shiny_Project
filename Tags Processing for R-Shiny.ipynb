{
 "cells": [
  {
   "cell_type": "markdown",
   "id": "f42e66e2",
   "metadata": {},
   "source": [
    "I will be conducting my processing for tags in this notebook, and then bringing them over to R to use in my project."
   ]
  },
  {
   "cell_type": "code",
   "execution_count": 1,
   "id": "db1405a6",
   "metadata": {},
   "outputs": [],
   "source": [
    "import numpy as np\n",
    "import pandas as pd"
   ]
  },
  {
   "cell_type": "code",
   "execution_count": 2,
   "id": "dcb3aa3c",
   "metadata": {},
   "outputs": [
    {
     "data": {
      "text/html": [
       "<div>\n",
       "<style scoped>\n",
       "    .dataframe tbody tr th:only-of-type {\n",
       "        vertical-align: middle;\n",
       "    }\n",
       "\n",
       "    .dataframe tbody tr th {\n",
       "        vertical-align: top;\n",
       "    }\n",
       "\n",
       "    .dataframe thead th {\n",
       "        text-align: right;\n",
       "    }\n",
       "</style>\n",
       "<table border=\"1\" class=\"dataframe\">\n",
       "  <thead>\n",
       "    <tr style=\"text-align: right;\">\n",
       "      <th></th>\n",
       "      <th>video_id</th>\n",
       "      <th>title</th>\n",
       "      <th>channelId</th>\n",
       "      <th>channelTitle</th>\n",
       "      <th>publishedAt</th>\n",
       "      <th>trending_date</th>\n",
       "      <th>publish_to_trending_days</th>\n",
       "      <th>category_text</th>\n",
       "      <th>tags</th>\n",
       "      <th>view_count</th>\n",
       "      <th>likes</th>\n",
       "      <th>dislikes</th>\n",
       "      <th>comment_count</th>\n",
       "      <th>comments_disabled</th>\n",
       "      <th>ratings_disabled</th>\n",
       "    </tr>\n",
       "  </thead>\n",
       "  <tbody>\n",
       "    <tr>\n",
       "      <th>0</th>\n",
       "      <td>ol4BJbIZHW4</td>\n",
       "      <td>(animated spellbook) 5E D&amp;D Technology wizard</td>\n",
       "      <td>UCCXR2kCo7Lcw_BKwWxo09kw</td>\n",
       "      <td>Zee Bashew</td>\n",
       "      <td>2020-08-07 14:00:30</td>\n",
       "      <td>2020-08-12</td>\n",
       "      <td>4.42</td>\n",
       "      <td>Film &amp; Animation</td>\n",
       "      <td>[None]</td>\n",
       "      <td>159860</td>\n",
       "      <td>17038</td>\n",
       "      <td>123</td>\n",
       "      <td>1026</td>\n",
       "      <td>False</td>\n",
       "      <td>False</td>\n",
       "    </tr>\n",
       "    <tr>\n",
       "      <th>1</th>\n",
       "      <td>5WjcDji3xYc</td>\n",
       "      <td>Honest Trailers | Avatar: The Last Airbender</td>\n",
       "      <td>UCOpcACMWblDls9Z6GERVi1A</td>\n",
       "      <td>Screen Junkies</td>\n",
       "      <td>2020-08-11 17:03:59</td>\n",
       "      <td>2020-08-12</td>\n",
       "      <td>0.29</td>\n",
       "      <td>Film &amp; Animation</td>\n",
       "      <td>screenjunkies|screen junkies|honest trailers|h...</td>\n",
       "      <td>833369</td>\n",
       "      <td>50181</td>\n",
       "      <td>1120</td>\n",
       "      <td>4634</td>\n",
       "      <td>False</td>\n",
       "      <td>False</td>\n",
       "    </tr>\n",
       "    <tr>\n",
       "      <th>2</th>\n",
       "      <td>yVdH3QacEXc</td>\n",
       "      <td>Selena Gomez - This is the Year (Official Prem...</td>\n",
       "      <td>UCPNxhDvTcytIdvwXWAm43cA</td>\n",
       "      <td>Selena Gomez</td>\n",
       "      <td>2020-08-10 16:32:06</td>\n",
       "      <td>2020-08-12</td>\n",
       "      <td>1.31</td>\n",
       "      <td>Film &amp; Animation</td>\n",
       "      <td>Selena Gomez|David Henrie|Dixie D’Amelio|Charl...</td>\n",
       "      <td>1523818</td>\n",
       "      <td>163684</td>\n",
       "      <td>2377</td>\n",
       "      <td>9845</td>\n",
       "      <td>False</td>\n",
       "      <td>False</td>\n",
       "    </tr>\n",
       "    <tr>\n",
       "      <th>3</th>\n",
       "      <td>HM_fkwDB-Xg</td>\n",
       "      <td>Yashahime: Princess Half-Demon | Official Anno...</td>\n",
       "      <td>UCV1da9peoqEwqr45bpTJsbQ</td>\n",
       "      <td>vizmedia</td>\n",
       "      <td>2020-08-07 03:00:02</td>\n",
       "      <td>2020-08-12</td>\n",
       "      <td>4.87</td>\n",
       "      <td>Film &amp; Animation</td>\n",
       "      <td>viz media|anime|official|manga|yashahime|inuya...</td>\n",
       "      <td>740830</td>\n",
       "      <td>34199</td>\n",
       "      <td>280</td>\n",
       "      <td>3413</td>\n",
       "      <td>False</td>\n",
       "      <td>False</td>\n",
       "    </tr>\n",
       "    <tr>\n",
       "      <th>4</th>\n",
       "      <td>vrYcnMWWOeI</td>\n",
       "      <td>Odd1sOut VS Alex Clark: Planning Chess Boxing ...</td>\n",
       "      <td>UCsDmESjqNPukDmVnuneLrqw</td>\n",
       "      <td>It's Alex Clark</td>\n",
       "      <td>2020-08-07 16:06:34</td>\n",
       "      <td>2020-08-12</td>\n",
       "      <td>4.33</td>\n",
       "      <td>Film &amp; Animation</td>\n",
       "      <td>its alex clark|itsalexclark|alex clark|itsalex...</td>\n",
       "      <td>320855</td>\n",
       "      <td>18889</td>\n",
       "      <td>180</td>\n",
       "      <td>1306</td>\n",
       "      <td>False</td>\n",
       "      <td>False</td>\n",
       "    </tr>\n",
       "    <tr>\n",
       "      <th>...</th>\n",
       "      <td>...</td>\n",
       "      <td>...</td>\n",
       "      <td>...</td>\n",
       "      <td>...</td>\n",
       "      <td>...</td>\n",
       "      <td>...</td>\n",
       "      <td>...</td>\n",
       "      <td>...</td>\n",
       "      <td>...</td>\n",
       "      <td>...</td>\n",
       "      <td>...</td>\n",
       "      <td>...</td>\n",
       "      <td>...</td>\n",
       "      <td>...</td>\n",
       "      <td>...</td>\n",
       "    </tr>\n",
       "    <tr>\n",
       "      <th>55969</th>\n",
       "      <td>jIRFr92_T9k</td>\n",
       "      <td>Self-Pouring Liquid</td>\n",
       "      <td>UCA19mAJURyYHbJzhfpqhpCA</td>\n",
       "      <td>Action Lab Shorts</td>\n",
       "      <td>2021-05-27 20:15:42</td>\n",
       "      <td>2021-05-30</td>\n",
       "      <td>2.16</td>\n",
       "      <td>Science &amp; Technology</td>\n",
       "      <td>Science|PEG|polyetheylne glycol|self pouring|s...</td>\n",
       "      <td>2416739</td>\n",
       "      <td>134974</td>\n",
       "      <td>1640</td>\n",
       "      <td>3108</td>\n",
       "      <td>False</td>\n",
       "      <td>False</td>\n",
       "    </tr>\n",
       "    <tr>\n",
       "      <th>55970</th>\n",
       "      <td>HzbPwXRjjxI</td>\n",
       "      <td>The Reverse Domino Effect</td>\n",
       "      <td>UCA19mAJURyYHbJzhfpqhpCA</td>\n",
       "      <td>Action Lab Shorts</td>\n",
       "      <td>2021-05-25 22:26:41</td>\n",
       "      <td>2021-05-30</td>\n",
       "      <td>4.06</td>\n",
       "      <td>Science &amp; Technology</td>\n",
       "      <td>Science|double domino|reverse domino effect</td>\n",
       "      <td>2838023</td>\n",
       "      <td>185833</td>\n",
       "      <td>4395</td>\n",
       "      <td>2721</td>\n",
       "      <td>False</td>\n",
       "      <td>False</td>\n",
       "    </tr>\n",
       "    <tr>\n",
       "      <th>55971</th>\n",
       "      <td>Q2b-B2Rmzis</td>\n",
       "      <td>7 fairly uninteresting projects I've built</td>\n",
       "      <td>UC3KEoMzNz8eYnwBC34RaKCQ</td>\n",
       "      <td>Simone Giertz</td>\n",
       "      <td>2021-05-26 15:59:32</td>\n",
       "      <td>2021-05-30</td>\n",
       "      <td>3.33</td>\n",
       "      <td>Science &amp; Technology</td>\n",
       "      <td>[None]</td>\n",
       "      <td>464312</td>\n",
       "      <td>61246</td>\n",
       "      <td>309</td>\n",
       "      <td>3408</td>\n",
       "      <td>False</td>\n",
       "      <td>False</td>\n",
       "    </tr>\n",
       "    <tr>\n",
       "      <th>55972</th>\n",
       "      <td>208gyh8L0Q0</td>\n",
       "      <td>The Coldest Ball</td>\n",
       "      <td>UCA19mAJURyYHbJzhfpqhpCA</td>\n",
       "      <td>Action Lab Shorts</td>\n",
       "      <td>2021-05-28 21:19:15</td>\n",
       "      <td>2021-05-30</td>\n",
       "      <td>1.11</td>\n",
       "      <td>Science &amp; Technology</td>\n",
       "      <td>Science|action lab|cold ball</td>\n",
       "      <td>2031259</td>\n",
       "      <td>143000</td>\n",
       "      <td>1618</td>\n",
       "      <td>1853</td>\n",
       "      <td>False</td>\n",
       "      <td>False</td>\n",
       "    </tr>\n",
       "    <tr>\n",
       "      <th>55973</th>\n",
       "      <td>XZjoPsmIO80</td>\n",
       "      <td>I Surprised TommyInnit With A Custom Keyboard...</td>\n",
       "      <td>UCFtOX-21N1earf-K58C7HjQ</td>\n",
       "      <td>Glarses</td>\n",
       "      <td>2021-05-23 22:48:04</td>\n",
       "      <td>2021-05-30</td>\n",
       "      <td>6.05</td>\n",
       "      <td>Science &amp; Technology</td>\n",
       "      <td>Surprising tommyinnit with a custom keyboard|s...</td>\n",
       "      <td>2545934</td>\n",
       "      <td>282699</td>\n",
       "      <td>1371</td>\n",
       "      <td>9215</td>\n",
       "      <td>False</td>\n",
       "      <td>False</td>\n",
       "    </tr>\n",
       "  </tbody>\n",
       "</table>\n",
       "<p>55974 rows × 15 columns</p>\n",
       "</div>"
      ],
      "text/plain": [
       "          video_id                                              title  \\\n",
       "0      ol4BJbIZHW4      (animated spellbook) 5E D&D Technology wizard   \n",
       "1      5WjcDji3xYc       Honest Trailers | Avatar: The Last Airbender   \n",
       "2      yVdH3QacEXc  Selena Gomez - This is the Year (Official Prem...   \n",
       "3      HM_fkwDB-Xg  Yashahime: Princess Half-Demon | Official Anno...   \n",
       "4      vrYcnMWWOeI  Odd1sOut VS Alex Clark: Planning Chess Boxing ...   \n",
       "...            ...                                                ...   \n",
       "55969  jIRFr92_T9k                                Self-Pouring Liquid   \n",
       "55970  HzbPwXRjjxI                          The Reverse Domino Effect   \n",
       "55971  Q2b-B2Rmzis         7 fairly uninteresting projects I've built   \n",
       "55972  208gyh8L0Q0                                   The Coldest Ball   \n",
       "55973  XZjoPsmIO80   I Surprised TommyInnit With A Custom Keyboard...   \n",
       "\n",
       "                      channelId       channelTitle          publishedAt  \\\n",
       "0      UCCXR2kCo7Lcw_BKwWxo09kw         Zee Bashew  2020-08-07 14:00:30   \n",
       "1      UCOpcACMWblDls9Z6GERVi1A     Screen Junkies  2020-08-11 17:03:59   \n",
       "2      UCPNxhDvTcytIdvwXWAm43cA       Selena Gomez  2020-08-10 16:32:06   \n",
       "3      UCV1da9peoqEwqr45bpTJsbQ           vizmedia  2020-08-07 03:00:02   \n",
       "4      UCsDmESjqNPukDmVnuneLrqw    It's Alex Clark  2020-08-07 16:06:34   \n",
       "...                         ...                ...                  ...   \n",
       "55969  UCA19mAJURyYHbJzhfpqhpCA  Action Lab Shorts  2021-05-27 20:15:42   \n",
       "55970  UCA19mAJURyYHbJzhfpqhpCA  Action Lab Shorts  2021-05-25 22:26:41   \n",
       "55971  UC3KEoMzNz8eYnwBC34RaKCQ      Simone Giertz  2021-05-26 15:59:32   \n",
       "55972  UCA19mAJURyYHbJzhfpqhpCA  Action Lab Shorts  2021-05-28 21:19:15   \n",
       "55973  UCFtOX-21N1earf-K58C7HjQ            Glarses  2021-05-23 22:48:04   \n",
       "\n",
       "      trending_date  publish_to_trending_days         category_text  \\\n",
       "0        2020-08-12                      4.42      Film & Animation   \n",
       "1        2020-08-12                      0.29      Film & Animation   \n",
       "2        2020-08-12                      1.31      Film & Animation   \n",
       "3        2020-08-12                      4.87      Film & Animation   \n",
       "4        2020-08-12                      4.33      Film & Animation   \n",
       "...             ...                       ...                   ...   \n",
       "55969    2021-05-30                      2.16  Science & Technology   \n",
       "55970    2021-05-30                      4.06  Science & Technology   \n",
       "55971    2021-05-30                      3.33  Science & Technology   \n",
       "55972    2021-05-30                      1.11  Science & Technology   \n",
       "55973    2021-05-30                      6.05  Science & Technology   \n",
       "\n",
       "                                                    tags  view_count   likes  \\\n",
       "0                                                 [None]      159860   17038   \n",
       "1      screenjunkies|screen junkies|honest trailers|h...      833369   50181   \n",
       "2      Selena Gomez|David Henrie|Dixie D’Amelio|Charl...     1523818  163684   \n",
       "3      viz media|anime|official|manga|yashahime|inuya...      740830   34199   \n",
       "4      its alex clark|itsalexclark|alex clark|itsalex...      320855   18889   \n",
       "...                                                  ...         ...     ...   \n",
       "55969  Science|PEG|polyetheylne glycol|self pouring|s...     2416739  134974   \n",
       "55970        Science|double domino|reverse domino effect     2838023  185833   \n",
       "55971                                             [None]      464312   61246   \n",
       "55972                       Science|action lab|cold ball     2031259  143000   \n",
       "55973  Surprising tommyinnit with a custom keyboard|s...     2545934  282699   \n",
       "\n",
       "       dislikes  comment_count  comments_disabled  ratings_disabled  \n",
       "0           123           1026              False             False  \n",
       "1          1120           4634              False             False  \n",
       "2          2377           9845              False             False  \n",
       "3           280           3413              False             False  \n",
       "4           180           1306              False             False  \n",
       "...         ...            ...                ...               ...  \n",
       "55969      1640           3108              False             False  \n",
       "55970      4395           2721              False             False  \n",
       "55971       309           3408              False             False  \n",
       "55972      1618           1853              False             False  \n",
       "55973      1371           9215              False             False  \n",
       "\n",
       "[55974 rows x 15 columns]"
      ]
     },
     "execution_count": 2,
     "metadata": {},
     "output_type": "execute_result"
    }
   ],
   "source": [
    "# Import data\n",
    "data=pd.read_csv(r'data\\Youtube_Working_Dataset.csv')\n",
    "data"
   ]
  },
  {
   "cell_type": "code",
   "execution_count": 3,
   "id": "3e117a7c",
   "metadata": {},
   "outputs": [
    {
     "data": {
      "text/plain": [
       "0                                                   [None]\n",
       "1        screenjunkies|screen junkies|honest trailers|h...\n",
       "2        Selena Gomez|David Henrie|Dixie D’Amelio|Charl...\n",
       "3        viz media|anime|official|manga|yashahime|inuya...\n",
       "4        its alex clark|itsalexclark|alex clark|itsalex...\n",
       "                               ...                        \n",
       "55969    Science|PEG|polyetheylne glycol|self pouring|s...\n",
       "55970          Science|double domino|reverse domino effect\n",
       "55971                                               [None]\n",
       "55972                         Science|action lab|cold ball\n",
       "55973    Surprising tommyinnit with a custom keyboard|s...\n",
       "Name: tags, Length: 55974, dtype: object"
      ]
     },
     "execution_count": 3,
     "metadata": {},
     "output_type": "execute_result"
    }
   ],
   "source": [
    "# Isolate the tags column\n",
    "tags_col = data['tags']\n",
    "tags_col"
   ]
  },
  {
   "cell_type": "code",
   "execution_count": 4,
   "id": "c1540caa",
   "metadata": {},
   "outputs": [],
   "source": [
    "# Create a dictionary of tags frequency, and a dataframe w/ this info\n",
    "tags_dict={}\n",
    "for tag_elem in tags_col:\n",
    "    tags_list = [tag.strip() for tag in tag_elem.lower().split(sep='|')]\n",
    "    for tag in tags_list:\n",
    "        if tag in tags_dict.keys():\n",
    "            tags_dict[tag] += 1\n",
    "        else:\n",
    "            tags_dict[tag] = 1\n",
    "\n",
    "all_tags = []\n",
    "all_counts = []\n",
    "for tag, count in tags_dict.items():\n",
    "    all_tags.append(tag)\n",
    "    all_counts.append(count)\n",
    "    \n",
    "tags_series = pd.Series(all_tags)\n",
    "counts_series = pd.Series(all_counts)\n",
    "\n",
    "tags_df = pd.concat([tags_series, counts_series], axis=1)\n",
    "tags_df = tags_df.sort_values(by=1, ascending=False)[1:]\n",
    "\n",
    "    "
   ]
  },
  {
   "cell_type": "code",
   "execution_count": 5,
   "id": "eef86656",
   "metadata": {},
   "outputs": [
    {
     "data": {
      "text/html": [
       "<div>\n",
       "<style scoped>\n",
       "    .dataframe tbody tr th:only-of-type {\n",
       "        vertical-align: middle;\n",
       "    }\n",
       "\n",
       "    .dataframe tbody tr th {\n",
       "        vertical-align: top;\n",
       "    }\n",
       "\n",
       "    .dataframe thead th {\n",
       "        text-align: right;\n",
       "    }\n",
       "</style>\n",
       "<table border=\"1\" class=\"dataframe\">\n",
       "  <thead>\n",
       "    <tr style=\"text-align: right;\">\n",
       "      <th></th>\n",
       "      <th>tag</th>\n",
       "      <th>count</th>\n",
       "    </tr>\n",
       "  </thead>\n",
       "  <tbody>\n",
       "    <tr>\n",
       "      <th>1232</th>\n",
       "      <td>funny</td>\n",
       "      <td>3634</td>\n",
       "    </tr>\n",
       "    <tr>\n",
       "      <th>78</th>\n",
       "      <td>comedy</td>\n",
       "      <td>2630</td>\n",
       "    </tr>\n",
       "    <tr>\n",
       "      <th>239</th>\n",
       "      <td>rap</td>\n",
       "      <td>1746</td>\n",
       "    </tr>\n",
       "    <tr>\n",
       "      <th>294</th>\n",
       "      <td>music</td>\n",
       "      <td>1727</td>\n",
       "    </tr>\n",
       "    <tr>\n",
       "      <th>1164</th>\n",
       "      <td>minecraft</td>\n",
       "      <td>1701</td>\n",
       "    </tr>\n",
       "    <tr>\n",
       "      <th>...</th>\n",
       "      <td>...</td>\n",
       "      <td>...</td>\n",
       "    </tr>\n",
       "    <tr>\n",
       "      <th>51977</th>\n",
       "      <td>tsitsipas nadal</td>\n",
       "      <td>1</td>\n",
       "    </tr>\n",
       "    <tr>\n",
       "      <th>51976</th>\n",
       "      <td>tsitsipas vs nadal</td>\n",
       "      <td>1</td>\n",
       "    </tr>\n",
       "    <tr>\n",
       "      <th>51975</th>\n",
       "      <td>stefanos tsitsipas vs rafael nadal</td>\n",
       "      <td>1</td>\n",
       "    </tr>\n",
       "    <tr>\n",
       "      <th>51974</th>\n",
       "      <td>tsitsipas</td>\n",
       "      <td>1</td>\n",
       "    </tr>\n",
       "    <tr>\n",
       "      <th>69572</th>\n",
       "      <td>tommyinnit hacked keyboard</td>\n",
       "      <td>1</td>\n",
       "    </tr>\n",
       "  </tbody>\n",
       "</table>\n",
       "<p>69572 rows × 2 columns</p>\n",
       "</div>"
      ],
      "text/plain": [
       "                                      tag  count\n",
       "1232                                funny   3634\n",
       "78                                 comedy   2630\n",
       "239                                   rap   1746\n",
       "294                                 music   1727\n",
       "1164                            minecraft   1701\n",
       "...                                   ...    ...\n",
       "51977                     tsitsipas nadal      1\n",
       "51976                  tsitsipas vs nadal      1\n",
       "51975  stefanos tsitsipas vs rafael nadal      1\n",
       "51974                           tsitsipas      1\n",
       "69572          tommyinnit hacked keyboard      1\n",
       "\n",
       "[69572 rows x 2 columns]"
      ]
     },
     "execution_count": 5,
     "metadata": {},
     "output_type": "execute_result"
    }
   ],
   "source": [
    "tags_df.columns = ['tag', 'count']\n",
    "tags_df"
   ]
  },
  {
   "cell_type": "code",
   "execution_count": 6,
   "id": "d2f9e4d1",
   "metadata": {},
   "outputs": [],
   "source": [
    "tags_df.to_csv(r'data\\tags_freqs.csv', index=False)"
   ]
  },
  {
   "cell_type": "code",
   "execution_count": 7,
   "id": "a3e8a3bc",
   "metadata": {},
   "outputs": [
    {
     "data": {
      "text/plain": [
       "<AxesSubplot:ylabel='Frequency'>"
      ]
     },
     "execution_count": 7,
     "metadata": {},
     "output_type": "execute_result"
    },
    {
     "data": {
      "image/png": "[encoded data removed]",
      "text/plain": [
       "<Figure size 432x288 with 1 Axes>"
      ]
     },
     "metadata": {
      "needs_background": "light"
     },
     "output_type": "display_data"
    }
   ],
   "source": [
    "import matplotlib.pyplot as plt\n",
    "\n",
    "# Look at the histogram for tag counts\n",
    "tags_df['count'].plot(kind='hist', bins=200)"
   ]
  },
  {
   "cell_type": "code",
   "execution_count": 8,
   "id": "56630f29",
   "metadata": {},
   "outputs": [
    {
     "data": {
      "text/plain": [
       "(0.0, 250.0)"
      ]
     },
     "execution_count": 8,
     "metadata": {},
     "output_type": "execute_result"
    },
    {
     "data": {
      "image/png": "[encoded data removed]",
      "text/plain": [
       "<Figure size 432x288 with 1 Axes>"
      ]
     },
     "metadata": {
      "needs_background": "light"
     },
     "output_type": "display_data"
    }
   ],
   "source": [
    "# Zoom in on the are with more observations\n",
    "tags_df['count'].plot(kind='hist', bins=600)\n",
    "plt.xlim(0,250)"
   ]
  },
  {
   "cell_type": "code",
   "execution_count": 9,
   "id": "aa77e1d8",
   "metadata": {},
   "outputs": [
    {
     "data": {
      "text/plain": [
       "(0.0, 500.0)"
      ]
     },
     "execution_count": 9,
     "metadata": {},
     "output_type": "execute_result"
    },
    {
     "data": {
      "image/png": "[encoded data removed]",
      "text/plain": [
       "<Figure size 432x288 with 1 Axes>"
      ]
     },
     "metadata": {
      "needs_background": "light"
     },
     "output_type": "display_data"
    }
   ],
   "source": [
    "\n",
    "# Cut off some y-scale, to see smaller bars\n",
    "# Remember the first bar goes all the way up above 4,000!\n",
    "tags_df['count'].plot(kind='hist', bins=600)\n",
    "plt.ylim(0, 1000)\n",
    "plt.xlim(0, 500)"
   ]
  },
  {
   "cell_type": "markdown",
   "id": "0b51a427",
   "metadata": {},
   "source": [
    "Looking at these distributions of tags and their frequency, I will take all tags that appeared more than 100 times. That seems to be the natural cutoff where tags go from being in the body of the distribution to being in the outliers."
   ]
  },
  {
   "cell_type": "code",
   "execution_count": 10,
   "id": "ab9e9871",
   "metadata": {},
   "outputs": [
    {
     "data": {
      "text/plain": [
       "55974"
      ]
     },
     "execution_count": 10,
     "metadata": {},
     "output_type": "execute_result"
    }
   ],
   "source": [
    "# Make a nested list of all tags for all videos\n",
    "tags_nested_list=[]\n",
    "for tag_elem in tags_col:\n",
    "    tags_list = [tag.strip() for tag in tag_elem.lower().split(sep='|')]\n",
    "    tags_nested_list.append(tags_list)\n",
    "len(tags_nested_list)\n",
    "\n"
   ]
  },
  {
   "cell_type": "code",
   "execution_count": 11,
   "id": "2db68d98",
   "metadata": {},
   "outputs": [
    {
     "data": {
      "text/plain": [
       "55974"
      ]
     },
     "execution_count": 11,
     "metadata": {},
     "output_type": "execute_result"
    }
   ],
   "source": [
    "# Keep just the top tag for each video\n",
    "taglist_numbered = []\n",
    "top_tag_list = []\n",
    "for taglist in tags_nested_list:\n",
    "    for tag in taglist:\n",
    "        tag_tup=(tag, tags_dict[tag])\n",
    "        taglist_numbered.append(tag_tup)\n",
    "    tags_sort = sorted(taglist_numbered, key=lambda x: x[1], reverse=True)\n",
    "    #print(tags_sort)\n",
    "    top_tag_list.append(tags_sort[0][0])\n",
    "    taglist_numbered = []\n",
    "    \n",
    "len(top_tag_list)"
   ]
  },
  {
   "cell_type": "code",
   "execution_count": 12,
   "id": "7d48c79b",
   "metadata": {},
   "outputs": [],
   "source": [
    "data_out = pd.concat([data, pd.Series(top_tag_list, name='top_tag')], axis=1)"
   ]
  },
  {
   "cell_type": "code",
   "execution_count": 22,
   "id": "4aa3fb9c",
   "metadata": {},
   "outputs": [],
   "source": [
    "# Get rid of the now superfluous 'tags' column, replace with 'top_tag'\n",
    "data_out = data_out[['video_id', 'title', 'channelId', 'channelTitle', 'publishedAt', 'trending_date',\n",
    "        'publish_to_trending_days', 'category_text', 'top_tag', 'view_count', 'likes',\n",
    "        'dislikes', 'comment_count', 'comments_disabled', 'ratings_disabled']]"
   ]
  },
  {
   "cell_type": "code",
   "execution_count": 23,
   "id": "499c1ac1",
   "metadata": {},
   "outputs": [],
   "source": [
    "data_out.to_csv(r'data\\Youtube_Working_Dataset_NEW.csv', index=False)"
   ]
  },
  {
   "cell_type": "code",
   "execution_count": null,
   "id": "de4b61fe",
   "metadata": {},
   "outputs": [],
   "source": []
  }
 ],
 "metadata": {
  "kernelspec": {
   "display_name": "Python 3",
   "language": "python",
   "name": "python3"
  },
  "language_info": {
   "codemirror_mode": {
    "name": "ipython",
    "version": 3
   },
   "file_extension": ".py",
   "mimetype": "text/x-python",
   "name": "python",
   "nbconvert_exporter": "python",
   "pygments_lexer": "ipython3",
   "version": "3.8.8"
  }
 },
 "nbformat": 4,
 "nbformat_minor": 5
}
